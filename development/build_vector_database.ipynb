{
 "cells": [
  {
   "cell_type": "code",
   "execution_count": 18,
   "metadata": {},
   "outputs": [],
   "source": [
    "import dotenv\n",
    "import os\n",
    "\n",
    "os.chdir('/home/lakiet/Projects/personal/chatbot/')\n",
    "\n",
    "dotenv.load_dotenv()\n",
    "\n",
    "pinecone_api_key = os.getenv(\"PINECONE_API_KEY\") \n",
    "openai_api_key = os.getenv(\"OPENAI_API_KEY\") \n"
   ]
  },
  {
   "cell_type": "code",
   "execution_count": 19,
   "metadata": {},
   "outputs": [],
   "source": [
    "from pinecone import Pinecone, ServerlessSpec\n",
    "\n",
    "\n",
    "pc = Pinecone(api_key=pinecone_api_key)\n"
   ]
  },
  {
   "cell_type": "code",
   "execution_count": 26,
   "metadata": {},
   "outputs": [],
   "source": [
    "import json\n",
    "from llama_index.core import Document\n",
    "\n",
    "# Load the JSON data\n",
    "with open('data/stories.json', 'r') as f:\n",
    "    data = json.load(f)\n",
    "\n",
    "# Create Document objects from the JSON data\n",
    "documents = []\n",
    "for item in data:\n",
    "    doc = Document(\n",
    "        text=item['story'],\n",
    "        metadata={\n",
    "            'author': item['author'],\n",
    "            'title': item['title'],\n",
    "            'story': item['story'],\n",
    "        }\n",
    "    )\n",
    "    documents.append(doc)"
   ]
  },
  {
   "cell_type": "code",
   "execution_count": 25,
   "metadata": {},
   "outputs": [
    {
     "data": {
      "text/plain": [
       "'Spread love everywhere you go: first of all in your own house. Give \\nlove to your children, to your wife or husband, to a next door neighbor. . \\n. . Let no one ever come to you without leaving better and happier. Be \\nthe living expression of God\\'s kindness; kindness in your face, kindness \\nin your eyes, kindness in your smile, kindness in your warm greeting. Mother Teresa \\n \\nA college professor had his sociology class go into the Baltimore slums \\nto get case histories of 200 young boys. They were asked to write an \\nevaluation of each boy\\'s future. In every case the students wrote, \"He \\nhasn\\'t got a chance.\" Twenty-five years later another sociology \\nprofessor came across the earlier study. He had his students follow up \\non the project to see what had happened to these boys. With the \\nexception of 20 boys who had moved away or died, the students learned \\nthat 176 of the remaining 180 had achieved more than ordinary success \\nas lawyers, doctors and businessmen. \\nThe professor was astounded and decided to pursue the matter further. \\nFortunately, all the men were in the area and he was able to ask each \\none, \"How do you account for your success?\" In each case the reply \\ncame with feeling, \\'There was a teacher.\" \\nThe teacher was still alive, so he sought her out and asked the old but \\nstill alert lady what magic formula she had used to pull these boys out of \\nthe slums into successful achievement. \\nThe teacher\\'s eyes sparkled and her lips broke into a gentle smile. \"It\\'s \\nreally very simple,\" she said. \"I loved those boys.\"'"
      ]
     },
     "execution_count": 25,
     "metadata": {},
     "output_type": "execute_result"
    }
   ],
   "source": [
    "documents[0].text"
   ]
  },
  {
   "cell_type": "code",
   "execution_count": 23,
   "metadata": {},
   "outputs": [],
   "source": [
    "from llama_index.embeddings.openai import OpenAIEmbedding\n",
    "\n",
    "# Initialize the OpenAI embedding model\n",
    "embedding_model = OpenAIEmbedding(model='text-embedding-3-small', api_key=openai_api_key)\n",
    "\n",
    "# Generate embeddings for the documents\n",
    "embeddings = [embedding_model.get_text_embedding(doc.text) for doc in documents]"
   ]
  },
  {
   "cell_type": "code",
   "execution_count": 28,
   "metadata": {},
   "outputs": [],
   "source": [
    "# Create or connect to a Pinecone index\n",
    "index_name = \"chatbot1\"\n",
    "if index_name not in pc.list_indexes():\n",
    "    pc.create_index(index_name, \n",
    "                    dimension=1536,\n",
    "                    metric='cosine',    \n",
    "                    spec=ServerlessSpec\n",
    "                    (\n",
    "                    cloud=\"aws\",\n",
    "                    region=\"us-east-1\"\n",
    "                    )\n",
    "                    )  \n",
    "\n",
    "index = pc.Index(index_name)\n",
    "\n",
    "# Upload embeddings to Pinecone\n",
    "for i, (doc, embedding) in enumerate(zip(documents, embeddings)):\n",
    "    index.upsert(vectors=[\n",
    "        (f\"doc-{i}\", embedding, doc.metadata)\n",
    "    ],\n",
    "    namespace='ns1')"
   ]
  },
  {
   "cell_type": "code",
   "execution_count": null,
   "metadata": {},
   "outputs": [],
   "source": []
  }
 ],
 "metadata": {
  "kernelspec": {
   "display_name": "project",
   "language": "python",
   "name": "python3"
  },
  "language_info": {
   "codemirror_mode": {
    "name": "ipython",
    "version": 3
   },
   "file_extension": ".py",
   "mimetype": "text/x-python",
   "name": "python",
   "nbconvert_exporter": "python",
   "pygments_lexer": "ipython3",
   "version": "3.10.16"
  }
 },
 "nbformat": 4,
 "nbformat_minor": 2
}
